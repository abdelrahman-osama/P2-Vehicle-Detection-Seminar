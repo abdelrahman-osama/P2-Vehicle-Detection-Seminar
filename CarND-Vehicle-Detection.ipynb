{
 "cells": [
  {
   "cell_type": "code",
   "execution_count": null,
   "metadata": {},
   "outputs": [],
   "source": [
    "from skimage.feature import hog\n",
    "from sklearn.svm import LinearSVC\n",
    "from sklearn.preprocessing import StandardScaler\n",
    "# for scikit-learn >= 0.18 use:\n",
    "from sklearn.model_selection import train_test_split\n",
    "# from sklearn.cross_validation import train_test_split\n",
    "from scipy.ndimage.measurements import label\n",
    "import matplotlib.image as mpimg\n",
    "import matplotlib.pyplot as plt\n",
    "from moviepy.editor import VideoFileClip\n",
    "from IPython.display import HTML\n",
    "import numpy as np\n",
    "import pickle\n",
    "import cv2\n",
    "import glob\n",
    "import time\n",
    "\n",
    "%matplotlib inline\n",
    "\n",
    "print('...')"
   ]
  },
  {
   "cell_type": "markdown",
   "metadata": {},
   "source": [
    "# Load Training Data"
   ]
  },
  {
   "cell_type": "code",
   "execution_count": null,
   "metadata": {},
   "outputs": [],
   "source": [
    "#TODO: Import car images and non-car images datasets\n",
    "car_images = \n",
    "noncar_images = \n",
    "print(len(car_images), len(noncar_images))"
   ]
  },
  {
   "cell_type": "markdown",
   "metadata": {},
   "source": [
    "# Visualize Some of the Data"
   ]
  },
  {
   "cell_type": "code",
   "execution_count": null,
   "metadata": {},
   "outputs": [],
   "source": [
    "fig, axs = plt.subplots(8,8, figsize=(16, 16))\n",
    "fig.subplots_adjust(hspace = .2, wspace=.001)\n",
    "axs = axs.ravel()\n",
    "\n",
    "# Step through the list and search for chessboard corners\n",
    "for i in np.arange(32):\n",
    "    img = cv2.imread(car_images[np.random.randint(0,len(car_images))])\n",
    "    img = cv2.cvtColor(img,cv2.COLOR_BGR2RGB)\n",
    "    axs[i].axis('off')\n",
    "    axs[i].set_title('car', fontsize=10)\n",
    "    axs[i].imshow(img)\n",
    "for i in np.arange(32,64):\n",
    "    img = cv2.imread(noncar_images[np.random.randint(0,len(noncar_images))])\n",
    "    img = cv2.cvtColor(img,cv2.COLOR_BGR2RGB)\n",
    "    axs[i].axis('off')\n",
    "    axs[i].set_title('no car', fontsize=10)\n",
    "    axs[i].imshow(img)"
   ]
  },
  {
   "cell_type": "markdown",
   "metadata": {},
   "source": [
    "# Helper Functions"
   ]
  },
  {
   "cell_type": "code",
   "execution_count": null,
   "metadata": {},
   "outputs": [],
   "source": [
    "# Define a function to return HOG features and visualization\n",
    "def get_hog_features(img, orient, pix_per_cell, cell_per_block, \n",
    "                        vis=False, feature_vec=True):\n",
    "    # Call with two outputs if vis==True\n",
    "    if vis == True:\n",
    "        features, hog_image = hog(img, orientations=orient, \n",
    "                                  pixels_per_cell=(pix_per_cell, pix_per_cell),\n",
    "                                  cells_per_block=(cell_per_block, cell_per_block), \n",
    "                                  transform_sqrt=False, \n",
    "                                  visualise=vis, feature_vector=feature_vec)\n",
    "        return features, hog_image\n",
    "    # Otherwise call with one output\n",
    "    else:      \n",
    "        features = hog(img, orientations=orient, \n",
    "                       pixels_per_cell=(pix_per_cell, pix_per_cell),\n",
    "                       cells_per_block=(cell_per_block, cell_per_block), \n",
    "                       transform_sqrt=False, \n",
    "                       visualise=vis, feature_vector=feature_vec)\n",
    "        return features\n",
    "\n",
    "    \n",
    "# Define a function to extract features from a list of images\n",
    "# Have this function call bin_spatial() and color_hist()\n",
    "def extract_features(imgs, cspace='RGB', orient=9, \n",
    "                        pix_per_cell=8, cell_per_block=2, hog_channel=0):\n",
    "    # Create a list to append feature vectors to\n",
    "    features = []\n",
    "    # Iterate through the list of images\n",
    "    for file in imgs:\n",
    "        # Read in each one by one\n",
    "        image = mpimg.imread(file)\n",
    "        # apply color conversion if other than 'RGB'\n",
    "        if cspace != 'RGB':\n",
    "            if cspace == 'HSV':\n",
    "                feature_image = cv2.cvtColor(image, cv2.COLOR_RGB2HSV)\n",
    "            elif cspace == 'LUV':\n",
    "                feature_image = cv2.cvtColor(image, cv2.COLOR_RGB2LUV)\n",
    "            elif cspace == 'HLS':\n",
    "                feature_image = cv2.cvtColor(image, cv2.COLOR_RGB2HLS)\n",
    "            elif cspace == 'YUV':\n",
    "                feature_image = cv2.cvtColor(image, cv2.COLOR_RGB2YUV)\n",
    "            elif cspace == 'YCrCb':\n",
    "                feature_image = cv2.cvtColor(image, cv2.COLOR_RGB2YCrCb)\n",
    "        else: feature_image = np.copy(image)      \n",
    "\n",
    "        # Call get_hog_features() with vis=False, feature_vec=True\n",
    "        if hog_channel == 'ALL':\n",
    "            hog_features = []\n",
    "            for channel in range(feature_image.shape[2]):\n",
    "                hog_features.append(get_hog_features(feature_image[:,:,channel], \n",
    "                                    orient, pix_per_cell, cell_per_block, \n",
    "                                    vis=False, feature_vec=True))\n",
    "            hog_features = np.ravel(hog_features)        \n",
    "        else:\n",
    "            hog_features = get_hog_features(feature_image[:,:,hog_channel], orient, \n",
    "                        pix_per_cell, cell_per_block, vis=False, feature_vec=True)\n",
    "        # Append the new feature vector to the features list\n",
    "        features.append(hog_features)\n",
    "    # Return list of feature vectors\n",
    "    return features\n",
    "\n",
    "print('...')"
   ]
  },
  {
   "cell_type": "markdown",
   "metadata": {},
   "source": [
    "# Visualizations"
   ]
  },
  {
   "cell_type": "code",
   "execution_count": null,
   "metadata": {},
   "outputs": [],
   "source": [
    "car_img = mpimg.imread(car_images[5])\n",
    "_, car_dst = get_hog_features(car_img[:,:,2], 9, 8, 8, vis=True, feature_vec=True)\n",
    "noncar_img = mpimg.imread(noncar_images[5])\n",
    "_, noncar_dst = get_hog_features(noncar_img[:,:,2], 9, 8, 8, vis=True, feature_vec=True)\n",
    "\n",
    "# Visualize \n",
    "f, ((ax1, ax2), (ax3, ax4)) = plt.subplots(2, 2, figsize=(7,7))\n",
    "f.subplots_adjust(hspace = .4, wspace=.2)\n",
    "ax1.imshow(car_img)\n",
    "ax1.set_title('Car Image', fontsize=16)\n",
    "ax2.imshow(car_dst, cmap='gray')\n",
    "ax2.set_title('Car HOG', fontsize=16)\n",
    "ax3.imshow(noncar_img)\n",
    "ax3.set_title('Non-Car Image', fontsize=16)\n",
    "ax4.imshow(noncar_dst, cmap='gray')\n",
    "ax4.set_title('Non-Car HOG', fontsize=16)\n",
    "print('...')"
   ]
  },
  {
   "cell_type": "markdown",
   "metadata": {},
   "source": [
    "# Feature Extraction"
   ]
  },
  {
   "cell_type": "code",
   "execution_count": null,
   "metadata": {},
   "outputs": [],
   "source": [
    "# TODO: Feature extraction parameters, adjust the parameters\n",
    "colorspace =  # Can be RGB, HSV, LUV, HLS, YUV, YCrCb\n",
    "orient = \n",
    "pix_per_cell = \n",
    "cell_per_block = \n",
    "hog_channel =  # Can be 0, 1, 2, or \"ALL\"\n",
    "\n",
    "t = time.time()\n",
    "car_features = extract_features(car_images, cspace=colorspace, orient=orient, \n",
    "                        pix_per_cell=pix_per_cell, cell_per_block=cell_per_block, \n",
    "                        hog_channel=hog_channel)\n",
    "notcar_features = extract_features(noncar_images, cspace=colorspace, orient=orient, \n",
    "                        pix_per_cell=pix_per_cell, cell_per_block=cell_per_block, \n",
    "                        hog_channel=hog_channel)\n",
    "t2 = time.time()\n",
    "print(round(t2-t, 2), 'Seconds to extract HOG features...')\n",
    "# Create an array stack of feature vectors\n",
    "X = np.vstack((car_features, notcar_features)).astype(np.float64)  \n",
    "\n",
    "\n",
    "# Define the labels vector\n",
    "y = np.hstack((np.ones(len(car_features)), np.zeros(len(notcar_features))))\n",
    "\n",
    "\n",
    "# Split up data into randomized training and test sets\n",
    "rand_state = np.random.randint(0, 100)\n",
    "X_train, X_test, y_train, y_test = train_test_split(\n",
    "    X, y, test_size=0.2, random_state=rand_state)\n",
    "\n",
    "print('Using:',orient,'orientations',pix_per_cell,\n",
    "    'pixels per cell and', cell_per_block,'cells per block')\n",
    "print('Feature vector length:', len(X_train[0]))"
   ]
  },
  {
   "cell_type": "markdown",
   "metadata": {},
   "source": [
    "# SVM Model"
   ]
  },
  {
   "cell_type": "code",
   "execution_count": null,
   "metadata": {},
   "outputs": [],
   "source": [
    "# TODO: Use an SVM model of your choice.\n",
    "svc =\n",
    "\n",
    "# Check the training time for the SVC\n",
    "t = time.time()\n",
    "\n",
    "# TODO: Train your model here\n",
    "\n",
    "\n",
    "t2 = time.time()\n",
    "print(round(t2-t, 2), 'Seconds to train SVC...')\n",
    "# Check the score of the SVC\n",
    "print('Test Accuracy of SVC = ', round(svc.score(X_test, y_test), 4))\n",
    "# Check the prediction time for a single sample\n",
    "t=time.time()\n",
    "n_predict = 10\n",
    "print('My SVC predicts: ', svc.predict(X_test[0:n_predict]))\n",
    "print('For these',n_predict, 'labels: ', y_test[0:n_predict])\n",
    "t2 = time.time()\n",
    "print(round(t2-t, 5), 'Seconds to predict', n_predict,'labels with SVC')"
   ]
  },
  {
   "cell_type": "code",
   "execution_count": null,
   "metadata": {},
   "outputs": [],
   "source": [
    "# Define a single function that can extract features using hog sub-sampling and make predictions\n",
    "def find_cars(img, ystart, ystop, scale, cspace, hog_channel, svc, X_scaler, orient, \n",
    "              pix_per_cell, cell_per_block, spatial_size, hist_bins, show_all_rectangles=False):\n",
    "    \n",
    "    # array of rectangles where cars were detected\n",
    "    rectangles = []\n",
    "    \n",
    "    img = img.astype(np.float32)/255\n",
    "    \n",
    "    img_tosearch = img[ystart:ystop,:,:]\n",
    "\n",
    "    # apply color conversion if other than 'RGB'\n",
    "    if cspace != 'RGB':\n",
    "        if cspace == 'HSV':\n",
    "            ctrans_tosearch = cv2.cvtColor(img_tosearch, cv2.COLOR_RGB2HSV)\n",
    "        elif cspace == 'LUV':\n",
    "            ctrans_tosearch = cv2.cvtColor(img_tosearch, cv2.COLOR_RGB2LUV)\n",
    "        elif cspace == 'HLS':\n",
    "            ctrans_tosearch = cv2.cvtColor(img_tosearch, cv2.COLOR_RGB2HLS)\n",
    "        elif cspace == 'YUV':\n",
    "            ctrans_tosearch = cv2.cvtColor(img_tosearch, cv2.COLOR_RGB2YUV)\n",
    "        elif cspace == 'YCrCb':\n",
    "            ctrans_tosearch = cv2.cvtColor(img_tosearch, cv2.COLOR_RGB2YCrCb)\n",
    "    else: ctrans_tosearch = np.copy(image)   \n",
    "    \n",
    "    # rescale image if other than 1.0 scale\n",
    "    if scale != 1:\n",
    "        imshape = ctrans_tosearch.shape\n",
    "        ctrans_tosearch = cv2.resize(ctrans_tosearch, (np.int(imshape[1]/scale), np.int(imshape[0]/scale)))\n",
    "    \n",
    "    # select colorspace channel for HOG \n",
    "    if hog_channel == 'ALL':\n",
    "        ch1 = ctrans_tosearch[:,:,0]\n",
    "        ch2 = ctrans_tosearch[:,:,1]\n",
    "        ch3 = ctrans_tosearch[:,:,2]\n",
    "    else: \n",
    "        ch1 = ctrans_tosearch[:,:,hog_channel]\n",
    "\n",
    "    # Define blocks and steps as above\n",
    "    nxblocks = (ch1.shape[1] // pix_per_cell)+1  #-1\n",
    "    nyblocks = (ch1.shape[0] // pix_per_cell)+1  #-1 \n",
    "    nfeat_per_block = orient*cell_per_block**2\n",
    "    # 64 was the orginal sampling rate, with 8 cells and 8 pix per cell\n",
    "    window = 64\n",
    "    nblocks_per_window = (window // pix_per_cell)-1 \n",
    "    cells_per_step = 2  # Instead of overlap, define how many cells to step\n",
    "    nxsteps = (nxblocks - nblocks_per_window) // cells_per_step\n",
    "    nysteps = (nyblocks - nblocks_per_window) // cells_per_step\n",
    "    \n",
    "    # Compute individual channel HOG features for the entire image\n",
    "    hog1 = get_hog_features(ch1, orient, pix_per_cell, cell_per_block, feature_vec=False)   \n",
    "    if hog_channel == 'ALL':\n",
    "        hog2 = get_hog_features(ch2, orient, pix_per_cell, cell_per_block, feature_vec=False)\n",
    "        hog3 = get_hog_features(ch3, orient, pix_per_cell, cell_per_block, feature_vec=False)\n",
    "    \n",
    "    for xb in range(nxsteps):\n",
    "        for yb in range(nysteps):\n",
    "            ypos = yb*cells_per_step\n",
    "            xpos = xb*cells_per_step\n",
    "            # Extract HOG for this patch\n",
    "            hog_feat1 = hog1[ypos:ypos+nblocks_per_window, xpos:xpos+nblocks_per_window].ravel() \n",
    "            hog_feat2 = hog2[ypos:ypos+nblocks_per_window, xpos:xpos+nblocks_per_window].ravel() \n",
    "            hog_feat3 = hog3[ypos:ypos+nblocks_per_window, xpos:xpos+nblocks_per_window].ravel() \n",
    "            hog_features = np.hstack((hog_feat1, hog_feat2, hog_feat3))\n",
    "\n",
    "            xleft = xpos*pix_per_cell\n",
    "            ytop = ypos*pix_per_cell\n",
    "            test_prediction = svc.predict(hog_features.reshape(1, -1))\n",
    "            \n",
    "            \n",
    "            if test_prediction == 1 or show_all_rectangles:\n",
    "                xbox_left = np.int(xleft*scale)\n",
    "                ytop_draw = np.int(ytop*scale)\n",
    "                win_draw = np.int(window*scale)\n",
    "                rectangles.append(((xbox_left, ytop_draw+ystart),(xbox_left+win_draw,ytop_draw+win_draw+ystart)))\n",
    "                \n",
    "    return rectangles\n",
    "    \n",
    "print('...')"
   ]
  },
  {
   "cell_type": "markdown",
   "metadata": {},
   "source": [
    "# Testing on an image"
   ]
  },
  {
   "cell_type": "code",
   "execution_count": null,
   "metadata": {},
   "outputs": [],
   "source": [
    "test_img = mpimg.imread('./test_images/test1.jpg')\n",
    "#TODO: adjust parameters\n",
    "ystart = \n",
    "ystop = \n",
    "scale = \n",
    "colorspace =  # Can be RGB, HSV, LUV, HLS, YUV, YCrCb\n",
    "orient = \n",
    "pix_per_cell = \n",
    "cell_per_block = \n",
    "hog_channel =  # Can be 0, 1, 2, or \"ALL\"\n",
    "\n",
    "rectangles = find_cars(test_img, ystart, ystop, scale, colorspace, hog_channel, svc, None, orient, pix_per_cell, cell_per_block, None, None)\n",
    "\n",
    "print(len(rectangles), 'rectangles found in image')"
   ]
  },
  {
   "cell_type": "code",
   "execution_count": null,
   "metadata": {},
   "outputs": [],
   "source": [
    "\n",
    "# Here is your draw_boxes function from the previous exercise\n",
    "def draw_boxes(img, bboxes, color=(0, 0, 255), thick=6):\n",
    "    # Make a copy of the image\n",
    "    imcopy = np.copy(img)\n",
    "    random_color = False\n",
    "    # Iterate through the bounding boxes\n",
    "    for bbox in bboxes:\n",
    "        if color == 'random' or random_color:\n",
    "            color = (np.random.randint(0,255), np.random.randint(0,255), np.random.randint(0,255))\n",
    "            random_color = True\n",
    "        # Draw a rectangle given bbox coordinates\n",
    "        cv2.rectangle(imcopy, bbox[0], bbox[1], color, thick)\n",
    "    # Return the image copy with boxes drawn\n",
    "    return imcopy\n",
    "\n",
    "print('...')"
   ]
  },
  {
   "cell_type": "markdown",
   "metadata": {},
   "source": [
    "# Visualization"
   ]
  },
  {
   "cell_type": "code",
   "execution_count": null,
   "metadata": {},
   "outputs": [],
   "source": [
    "test_img_rects = draw_boxes(test_img, rectangles)\n",
    "plt.figure(figsize=(10,10))\n",
    "plt.imshow(test_img_rects)\n",
    "print('...')"
   ]
  },
  {
   "cell_type": "markdown",
   "metadata": {},
   "source": [
    "# Adjusting parameters for sliding windows on an image"
   ]
  },
  {
   "cell_type": "code",
   "execution_count": null,
   "metadata": {},
   "outputs": [],
   "source": [
    "test_img = mpimg.imread('./test_images/test1.jpg')\n",
    "\n",
    "rectangles = []\n",
    "#TODO: Adjust parameters\n",
    "colorspace =  # Can be RGB, HSV, LUV, HLS, YUV, YCrCb\n",
    "orient = \n",
    "pix_per_cell = \n",
    "cell_per_block = \n",
    "hog_channel =  # Can be 0, 1, 2, or \"ALL\"\n",
    "\n",
    "#TODO: Adjust parameters\n",
    "# Hint: You can use different y ranges to have a more precise detection.\n",
    "ystart = \n",
    "ystop = \n",
    "scale = 1.0\n",
    "rectangles.append(find_cars(test_img, ystart, ystop, scale, colorspace, hog_channel, svc, None, \n",
    "                       orient, pix_per_cell, cell_per_block, None, None))\n",
    "\n",
    "ystart = \n",
    "ystop = \n",
    "scale = 1.5\n",
    "rectangles.append(find_cars(test_img, ystart, ystop, scale, colorspace, hog_channel, svc, None, \n",
    "                       orient, pix_per_cell, cell_per_block, None, None))\n",
    "\n",
    "ystart = \n",
    "ystop = \n",
    "scale = 2.0\n",
    "rectangles.append(find_cars(test_img, ystart, ystop, scale, colorspace, hog_channel, svc, None, \n",
    "                       orient, pix_per_cell, cell_per_block, None, None))\n",
    "\n",
    "ystart = \n",
    "ystop = \n",
    "scale = 3.5\n",
    "rectangles.append(find_cars(test_img, ystart, ystop, scale, colorspace, hog_channel, svc, None, \n",
    "                       orient, pix_per_cell, cell_per_block, None, None))\n",
    "\n",
    "# apparently this is the best way to flatten a list of lists\n",
    "rectangles = [item for sublist in rectangles for item in sublist] \n",
    "test_img_rects = draw_boxes(test_img, rectangles, color='random', thick=2)\n",
    "plt.figure(figsize=(10,10))\n",
    "plt.imshow(test_img_rects)\n",
    "print('...')"
   ]
  },
  {
   "cell_type": "markdown",
   "metadata": {},
   "source": [
    "# Heatmap helper"
   ]
  },
  {
   "cell_type": "code",
   "execution_count": null,
   "metadata": {},
   "outputs": [],
   "source": [
    "def add_heat(heatmap, bbox_list):\n",
    "    # Iterate through list of bboxes\n",
    "    for box in bbox_list:\n",
    "        # Add += 1 for all pixels inside each bbox\n",
    "        # Assuming each \"box\" takes the form ((x1, y1), (x2, y2))\n",
    "        heatmap[box[0][1]:box[1][1], box[0][0]:box[1][0]] += 1\n",
    "\n",
    "    # Return updated heatmap\n",
    "    return heatmap\n",
    "\n",
    "print('...')"
   ]
  },
  {
   "cell_type": "markdown",
   "metadata": {},
   "source": [
    "# Heatmap Visualization"
   ]
  },
  {
   "cell_type": "code",
   "execution_count": null,
   "metadata": {},
   "outputs": [],
   "source": [
    "# Test out the heatmap\n",
    "heatmap_img = np.zeros_like(test_img[:,:,0])\n",
    "# TODO: call add_heat function\n",
    "heatmap_img = \n",
    "plt.figure(figsize=(10,10))\n",
    "plt.imshow(heatmap_img, cmap='hot')\n",
    "\n",
    "print('...')"
   ]
  },
  {
   "cell_type": "markdown",
   "metadata": {},
   "source": [
    "# Heatmap Helper"
   ]
  },
  {
   "cell_type": "code",
   "execution_count": null,
   "metadata": {},
   "outputs": [],
   "source": [
    "def apply_threshold(heatmap, threshold):\n",
    "    # Zero out pixels below the threshold\n",
    "    heatmap[heatmap <= threshold] = 0\n",
    "    # Return thresholded map\n",
    "    return heatmap\n",
    "\n",
    "print('...')"
   ]
  },
  {
   "cell_type": "markdown",
   "metadata": {},
   "source": [
    "# Heatmap Visualization"
   ]
  },
  {
   "cell_type": "code",
   "execution_count": null,
   "metadata": {},
   "outputs": [],
   "source": [
    "#TODO: You need to apply the function apply_threshold\n",
    "heatmap_img = \n",
    "plt.figure(figsize=(10,10))\n",
    "plt.imshow(heatmap_img, cmap='hot')\n",
    "\n",
    "print('...')"
   ]
  },
  {
   "cell_type": "code",
   "execution_count": null,
   "metadata": {},
   "outputs": [],
   "source": [
    "labels = label(heatmap_img)\n",
    "plt.figure(figsize=(10,10))\n",
    "plt.imshow(labels[0], cmap='gray')\n",
    "print(labels[1], 'cars found')"
   ]
  },
  {
   "cell_type": "code",
   "execution_count": null,
   "metadata": {},
   "outputs": [],
   "source": [
    "def draw_labeled_bboxes(img, labels):\n",
    "    # Iterate through all detected cars\n",
    "    rects = []\n",
    "    for car_number in range(1, labels[1]+1):\n",
    "        # Find pixels with each car_number label value\n",
    "        nonzero = (labels[0] == car_number).nonzero()\n",
    "        # Identify x and y values of those pixels\n",
    "        nonzeroy = np.array(nonzero[0])\n",
    "        nonzerox = np.array(nonzero[1])\n",
    "        # Define a bounding box based on min/max x and y\n",
    "        bbox = ((np.min(nonzerox), np.min(nonzeroy)), (np.max(nonzerox), np.max(nonzeroy)))\n",
    "        rects.append(bbox)\n",
    "        # Draw the box on the image\n",
    "        cv2.rectangle(img, bbox[0], bbox[1], (0,0,255), 6)\n",
    "    # Return the image and final rectangles\n",
    "    return img, rects\n",
    "\n",
    "# Draw bounding boxes on a copy of the image\n",
    "draw_img, rect = draw_labeled_bboxes(np.copy(test_img), labels)\n",
    "# Display the image\n",
    "plt.figure(figsize=(10,10))\n",
    "plt.imshow(draw_img)\n",
    "print('...')"
   ]
  },
  {
   "cell_type": "code",
   "execution_count": null,
   "metadata": {},
   "outputs": [],
   "source": [
    "def process_frame(img):\n",
    "\n",
    "    rectangles = []\n",
    "    #TODO: Adjust parameters\n",
    "    colorspace =  # Can be RGB, HSV, LUV, HLS, YUV, YCrCb\n",
    "    orient = \n",
    "    pix_per_cell = \n",
    "    cell_per_block = \n",
    "    hog_channel =  # Can be 0, 1, 2, or \"ALL\"\n",
    "\n",
    "    #TODO: Adjust parameters\n",
    "    # Hint: You can use different y ranges to have a more precise detection.\n",
    "    ystart = \n",
    "    ystop = \n",
    "    scale = 1.0\n",
    "    rectangles.append(find_cars(test_img, ystart, ystop, scale, colorspace, hog_channel, svc, None, \n",
    "                           orient, pix_per_cell, cell_per_block, None, None))\n",
    "\n",
    "    ystart = \n",
    "    ystop = \n",
    "    scale = 1.5\n",
    "    rectangles.append(find_cars(test_img, ystart, ystop, scale, colorspace, hog_channel, svc, None, \n",
    "                           orient, pix_per_cell, cell_per_block, None, None))\n",
    "\n",
    "    ystart = \n",
    "    ystop = \n",
    "    scale = 2.0\n",
    "    rectangles.append(find_cars(test_img, ystart, ystop, scale, colorspace, hog_channel, svc, None, \n",
    "                           orient, pix_per_cell, cell_per_block, None, None))\n",
    "\n",
    "    ystart = \n",
    "    ystop = \n",
    "    scale = 3.5\n",
    "    rectangles.append(find_cars(test_img, ystart, ystop, scale, colorspace, hog_channel, svc, None, \n",
    "                           orient, pix_per_cell, cell_per_block, None, None))\n",
    "\n",
    "    rectangles = [item for sublist in rectangles for item in sublist] \n",
    "    \n",
    "    heatmap_img = np.zeros_like(img[:,:,0])\n",
    "    heatmap_img = add_heat(heatmap_img, rectangles)\n",
    "    heatmap_img = apply_threshold(heatmap_img, 1.5)\n",
    "    labels = label(heatmap_img)\n",
    "    draw_img, rects = draw_labeled_bboxes(np.copy(img), labels)\n",
    "    return draw_img\n",
    "\n",
    "print('...')"
   ]
  },
  {
   "cell_type": "code",
   "execution_count": null,
   "metadata": {},
   "outputs": [],
   "source": [
    "test_images = glob.glob('./test_images/test*.jpg')\n",
    "\n",
    "fig, axs = plt.subplots(3, 2, figsize=(16,14))\n",
    "fig.subplots_adjust(hspace = .004, wspace=.002)\n",
    "axs = axs.ravel()\n",
    "\n",
    "for i, im in enumerate(test_images):\n",
    "    axs[i].imshow(process_frame(mpimg.imread(im)))\n",
    "    axs[i].axis('off')"
   ]
  },
  {
   "cell_type": "code",
   "execution_count": null,
   "metadata": {},
   "outputs": [],
   "source": [
    "test_out_file = 'test_video_out.mp4'\n",
    "clip_test = VideoFileClip('test_video.mp4')\n",
    "clip_test_out = clip_test.fl_image(process_frame)\n",
    "%time clip_test_out.write_videofile(test_out_file, audio=False)"
   ]
  },
  {
   "cell_type": "code",
   "execution_count": null,
   "metadata": {},
   "outputs": [],
   "source": [
    "HTML(\"\"\"\n",
    "<video width=\"960\" height=\"540\" controls>\n",
    "  <source src=\"{0}\">\n",
    "</video>\n",
    "\"\"\".format(test_out_file))"
   ]
  }
 ],
 "metadata": {
  "kernelspec": {
   "display_name": "Python 3",
   "language": "python",
   "name": "python3"
  },
  "language_info": {
   "codemirror_mode": {
    "name": "ipython",
    "version": 3
   },
   "file_extension": ".py",
   "mimetype": "text/x-python",
   "name": "python",
   "nbconvert_exporter": "python",
   "pygments_lexer": "ipython3",
   "version": "3.5.2"
  },
  "widgets": {
   "state": {},
   "version": "1.1.2"
  }
 },
 "nbformat": 4,
 "nbformat_minor": 2
}
